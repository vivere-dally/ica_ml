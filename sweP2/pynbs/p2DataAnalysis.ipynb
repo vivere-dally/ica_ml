{
 "cells": [
  {
   "cell_type": "code",
   "execution_count": 5,
   "metadata": {},
   "outputs": [],
   "source": [
    "import numpy as np\n",
    "import pandas as pd\n",
    "import seaborn as sns\n",
    "import matplotlib.pyplot as plt\n",
    "from sklearn.preprocessing import LabelEncoder, OneHotEncoder\n",
    "import warnings\n",
    "warnings.filterwarnings(\"ignore\")\n",
    "from sklearn.model_selection import train_test_split\n",
    "from sklearn.svm import SVC\n",
    "from sklearn.metrics import confusion_matrix\n",
    "import tensorflow.keras as keras\n",
    "from keras.datasets import mnist\n",
    "\n",
    "(x_train, y_train), (x_test, y_test) = mnist.load_data()"
   ]
  },
  {
   "cell_type": "code",
   "execution_count": 16,
   "metadata": {},
   "outputs": [],
   "source": [
    "\n",
    "digits = np.zeros((10, 784))\n",
    "digits_count = np.zeros(10)\n",
    "\n",
    "for index, digit in enumerate(y_train):\n",
    "    digits[digit] = np.add(digits[digit], x_train[index].flatten())\n",
    "    digits_count[digit] += 1\n",
    "\n",
    "for index in range(len(digits)):\n",
    "    digits[index] /= digits_count[digit]\n"
   ]
  },
  {
   "cell_type": "code",
   "execution_count": 17,
   "metadata": {},
   "outputs": [
    {
     "data": {
      "text/plain": [
       "<AxesSubplot:>"
      ]
     },
     "execution_count": 17,
     "metadata": {},
     "output_type": "execute_result"
    },
    {
     "data": {
      "image/png": "[encoded data removed]",
      "text/plain": [
       "<Figure size 432x288 with 2 Axes>"
      ]
     },
     "metadata": {
      "needs_background": "light"
     },
     "output_type": "display_data"
    }
   ],
   "source": [
    "from math import *\n",
    "\n",
    "def euclidean_distance(a, b):\n",
    "    return sqrt(sum(pow(ai - bi, 2) for ai, bi in zip(a, b)))\n",
    "\n",
    "sim_matrix = np.zeros((10, 10))\n",
    "for digit_i in range(len(digits)):\n",
    "    for digit_j in range(len(digits)):\n",
    "        sim_matrix[digit_i, digit_j] = euclidean_distance(digits[digit_i], digits[digit_j])\n",
    "\n",
    "sns.heatmap(sim_matrix)"
   ]
  }
 ],
 "metadata": {
  "interpreter": {
   "hash": "9ff7ad65fd33a767da5485be53880310ae0b5bdc0d199936e60539568ae78205"
  },
  "kernelspec": {
   "display_name": "Python 3.9.7 64-bit",
   "language": "python",
   "name": "python3"
  },
  "language_info": {
   "codemirror_mode": {
    "name": "ipython",
    "version": 3
   },
   "file_extension": ".py",
   "mimetype": "text/x-python",
   "name": "python",
   "nbconvert_exporter": "python",
   "pygments_lexer": "ipython3",
   "version": "3.9.7"
  },
  "orig_nbformat": 4
 },
 "nbformat": 4,
 "nbformat_minor": 2
}
